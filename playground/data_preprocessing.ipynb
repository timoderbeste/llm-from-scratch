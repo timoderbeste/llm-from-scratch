{
 "cells": [
  {
   "metadata": {
    "ExecuteTime": {
     "end_time": "2024-07-05T17:05:17.559991Z",
     "start_time": "2024-07-05T17:05:17.550279Z"
    }
   },
   "cell_type": "code",
   "source": [
    "file_path = '../data/the-verdict.txt'\n",
    "\n",
    "with open(file_path, 'r') as f:\n",
    "  raw_text = f.read()"
   ],
   "id": "1d508571f0ee685",
   "outputs": [],
   "execution_count": 1
  },
  {
   "metadata": {
    "ExecuteTime": {
     "end_time": "2024-07-05T17:15:53.889058Z",
     "start_time": "2024-07-05T17:15:53.861715Z"
    }
   },
   "cell_type": "code",
   "source": [
    "import tiktoken\n",
    "from src.dataset.gpt_dataset_v1 import GPTDatasetV1\n",
    "\n",
    "tokenizer = tiktoken.get_encoding('gpt2')\n",
    "\n",
    "dataset1 = GPTDatasetV1(raw_text, tokenizer, max_len=4, stride=1)\n",
    "data_loader1 = dataset1.to_data_loader(batch_size=1, shuffle=False)"
   ],
   "id": "55e912fdb7a97eef",
   "outputs": [],
   "execution_count": 7
  },
  {
   "metadata": {
    "ExecuteTime": {
     "end_time": "2024-07-05T17:15:54.850273Z",
     "start_time": "2024-07-05T17:15:54.845386Z"
    }
   },
   "cell_type": "code",
   "source": [
    "data_iter1 = iter(data_loader1)\n",
    "data_iter1_batch0 = next(data_iter1)\n",
    "print(data_iter1_batch0)"
   ],
   "id": "56bdd1f2028162a8",
   "outputs": [
    {
     "name": "stdout",
     "output_type": "stream",
     "text": [
      "[tensor([[  40,  367, 2885, 1464]]), tensor([[ 367, 2885, 1464, 1807]])]\n"
     ]
    }
   ],
   "execution_count": 8
  },
  {
   "metadata": {
    "ExecuteTime": {
     "end_time": "2024-07-05T17:18:38.255990Z",
     "start_time": "2024-07-05T17:18:38.245356Z"
    }
   },
   "cell_type": "code",
   "source": [
    "dataset2 = GPTDatasetV1(raw_text, tokenizer, max_len=4, stride=4)\n",
    "data_loader2 = dataset2.to_data_loader(batch_size=8, shuffle=False)\n",
    "\n",
    "data_iter2 = iter(data_loader2)\n",
    "data2_inputs, data2_targets = next(data_iter2)\n",
    "print('Inputs:', data2_inputs)\n",
    "print('Targets:', data2_targets)"
   ],
   "id": "db8cffccd402e5c",
   "outputs": [
    {
     "name": "stdout",
     "output_type": "stream",
     "text": [
      "Inputs: tensor([[   40,   367,  2885,  1464],\n",
      "        [ 1807,  3619,   402,   271],\n",
      "        [10899,  2138,   257,  7026],\n",
      "        [15632,   438,  2016,   257],\n",
      "        [  922,  5891,  1576,   438],\n",
      "        [  568,   340,   373,   645],\n",
      "        [ 1049,  5975,   284,   502],\n",
      "        [  284,  3285,   326,    11]])\n",
      "Targets: tensor([[  367,  2885,  1464,  1807],\n",
      "        [ 3619,   402,   271, 10899],\n",
      "        [ 2138,   257,  7026, 15632],\n",
      "        [  438,  2016,   257,   922],\n",
      "        [ 5891,  1576,   438,   568],\n",
      "        [  340,   373,   645,  1049],\n",
      "        [ 5975,   284,   502,   284],\n",
      "        [ 3285,   326,    11,   287]])\n"
     ]
    }
   ],
   "execution_count": 9
  }
 ],
 "metadata": {
  "kernelspec": {
   "display_name": "Python 3",
   "language": "python",
   "name": "python3"
  },
  "language_info": {
   "codemirror_mode": {
    "name": "ipython",
    "version": 2
   },
   "file_extension": ".py",
   "mimetype": "text/x-python",
   "name": "python",
   "nbconvert_exporter": "python",
   "pygments_lexer": "ipython2",
   "version": "2.7.6"
  }
 },
 "nbformat": 4,
 "nbformat_minor": 5
}
