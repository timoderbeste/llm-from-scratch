{
 "cells": [
  {
   "cell_type": "code",
   "id": "initial_id",
   "metadata": {
    "collapsed": true,
    "ExecuteTime": {
     "end_time": "2024-07-07T16:27:05.800737Z",
     "start_time": "2024-07-07T16:27:04.986627Z"
    }
   },
   "source": [
    "import tiktoken\n",
    "import torch\n",
    "import torch.nn.functional as F\n",
    "\n",
    "from src.configs import GPT_CONFIG_124M_256, GPT_CONFIG_124M_1024\n",
    "from src.dataset.gpt_dataset_v1 import GPTDatasetV1\n",
    "from src.model.llm.gpt2 import GPT2Model\n",
    "from src.utils.loss import compute_full_loss\n",
    "from src.utils.plot import plot_losses\n",
    "from src.utils.text_generation import generate_text_simple\n",
    "from src.utils.text_tokenization import text_to_token_ids, token_ids_to_text\n",
    "from src.utils.training import train_model_simple"
   ],
   "outputs": [],
   "execution_count": 1
  },
  {
   "metadata": {
    "ExecuteTime": {
     "end_time": "2024-07-07T16:27:06.516396Z",
     "start_time": "2024-07-07T16:27:05.801721Z"
    }
   },
   "cell_type": "code",
   "source": [
    "torch.manual_seed(123)\n",
    "model = GPT2Model(GPT_CONFIG_124M_256)\n",
    "model.eval()"
   ],
   "id": "35f1a3c666639d2e",
   "outputs": [
    {
     "data": {
      "text/plain": [
       "GPT2Model(\n",
       "  (tok_emb): Embedding(50257, 768)\n",
       "  (pos_emb): Embedding(256, 768)\n",
       "  (drop_emb): Dropout(p=0.1, inplace=False)\n",
       "  (transformer_blocks): Sequential(\n",
       "    (0): TransformerBlock(\n",
       "      (attn): MultiHeadAttention(\n",
       "        (W_query): Linear(in_features=768, out_features=768, bias=False)\n",
       "        (W_key): Linear(in_features=768, out_features=768, bias=False)\n",
       "        (W_value): Linear(in_features=768, out_features=768, bias=False)\n",
       "        (out_proj): Linear(in_features=768, out_features=768, bias=True)\n",
       "        (dropout): Dropout(p=0.1, inplace=False)\n",
       "      )\n",
       "      (ff): FeedForwardEqual(\n",
       "        (layers): Sequential(\n",
       "          (0): Linear(in_features=768, out_features=3072, bias=True)\n",
       "          (1): GELU()\n",
       "          (2): Linear(in_features=3072, out_features=768, bias=True)\n",
       "        )\n",
       "      )\n",
       "      (norm1): LayerNormalization()\n",
       "      (norm2): LayerNormalization()\n",
       "      (dropout): Dropout(p=0.1, inplace=False)\n",
       "    )\n",
       "    (1): TransformerBlock(\n",
       "      (attn): MultiHeadAttention(\n",
       "        (W_query): Linear(in_features=768, out_features=768, bias=False)\n",
       "        (W_key): Linear(in_features=768, out_features=768, bias=False)\n",
       "        (W_value): Linear(in_features=768, out_features=768, bias=False)\n",
       "        (out_proj): Linear(in_features=768, out_features=768, bias=True)\n",
       "        (dropout): Dropout(p=0.1, inplace=False)\n",
       "      )\n",
       "      (ff): FeedForwardEqual(\n",
       "        (layers): Sequential(\n",
       "          (0): Linear(in_features=768, out_features=3072, bias=True)\n",
       "          (1): GELU()\n",
       "          (2): Linear(in_features=3072, out_features=768, bias=True)\n",
       "        )\n",
       "      )\n",
       "      (norm1): LayerNormalization()\n",
       "      (norm2): LayerNormalization()\n",
       "      (dropout): Dropout(p=0.1, inplace=False)\n",
       "    )\n",
       "    (2): TransformerBlock(\n",
       "      (attn): MultiHeadAttention(\n",
       "        (W_query): Linear(in_features=768, out_features=768, bias=False)\n",
       "        (W_key): Linear(in_features=768, out_features=768, bias=False)\n",
       "        (W_value): Linear(in_features=768, out_features=768, bias=False)\n",
       "        (out_proj): Linear(in_features=768, out_features=768, bias=True)\n",
       "        (dropout): Dropout(p=0.1, inplace=False)\n",
       "      )\n",
       "      (ff): FeedForwardEqual(\n",
       "        (layers): Sequential(\n",
       "          (0): Linear(in_features=768, out_features=3072, bias=True)\n",
       "          (1): GELU()\n",
       "          (2): Linear(in_features=3072, out_features=768, bias=True)\n",
       "        )\n",
       "      )\n",
       "      (norm1): LayerNormalization()\n",
       "      (norm2): LayerNormalization()\n",
       "      (dropout): Dropout(p=0.1, inplace=False)\n",
       "    )\n",
       "    (3): TransformerBlock(\n",
       "      (attn): MultiHeadAttention(\n",
       "        (W_query): Linear(in_features=768, out_features=768, bias=False)\n",
       "        (W_key): Linear(in_features=768, out_features=768, bias=False)\n",
       "        (W_value): Linear(in_features=768, out_features=768, bias=False)\n",
       "        (out_proj): Linear(in_features=768, out_features=768, bias=True)\n",
       "        (dropout): Dropout(p=0.1, inplace=False)\n",
       "      )\n",
       "      (ff): FeedForwardEqual(\n",
       "        (layers): Sequential(\n",
       "          (0): Linear(in_features=768, out_features=3072, bias=True)\n",
       "          (1): GELU()\n",
       "          (2): Linear(in_features=3072, out_features=768, bias=True)\n",
       "        )\n",
       "      )\n",
       "      (norm1): LayerNormalization()\n",
       "      (norm2): LayerNormalization()\n",
       "      (dropout): Dropout(p=0.1, inplace=False)\n",
       "    )\n",
       "    (4): TransformerBlock(\n",
       "      (attn): MultiHeadAttention(\n",
       "        (W_query): Linear(in_features=768, out_features=768, bias=False)\n",
       "        (W_key): Linear(in_features=768, out_features=768, bias=False)\n",
       "        (W_value): Linear(in_features=768, out_features=768, bias=False)\n",
       "        (out_proj): Linear(in_features=768, out_features=768, bias=True)\n",
       "        (dropout): Dropout(p=0.1, inplace=False)\n",
       "      )\n",
       "      (ff): FeedForwardEqual(\n",
       "        (layers): Sequential(\n",
       "          (0): Linear(in_features=768, out_features=3072, bias=True)\n",
       "          (1): GELU()\n",
       "          (2): Linear(in_features=3072, out_features=768, bias=True)\n",
       "        )\n",
       "      )\n",
       "      (norm1): LayerNormalization()\n",
       "      (norm2): LayerNormalization()\n",
       "      (dropout): Dropout(p=0.1, inplace=False)\n",
       "    )\n",
       "    (5): TransformerBlock(\n",
       "      (attn): MultiHeadAttention(\n",
       "        (W_query): Linear(in_features=768, out_features=768, bias=False)\n",
       "        (W_key): Linear(in_features=768, out_features=768, bias=False)\n",
       "        (W_value): Linear(in_features=768, out_features=768, bias=False)\n",
       "        (out_proj): Linear(in_features=768, out_features=768, bias=True)\n",
       "        (dropout): Dropout(p=0.1, inplace=False)\n",
       "      )\n",
       "      (ff): FeedForwardEqual(\n",
       "        (layers): Sequential(\n",
       "          (0): Linear(in_features=768, out_features=3072, bias=True)\n",
       "          (1): GELU()\n",
       "          (2): Linear(in_features=3072, out_features=768, bias=True)\n",
       "        )\n",
       "      )\n",
       "      (norm1): LayerNormalization()\n",
       "      (norm2): LayerNormalization()\n",
       "      (dropout): Dropout(p=0.1, inplace=False)\n",
       "    )\n",
       "    (6): TransformerBlock(\n",
       "      (attn): MultiHeadAttention(\n",
       "        (W_query): Linear(in_features=768, out_features=768, bias=False)\n",
       "        (W_key): Linear(in_features=768, out_features=768, bias=False)\n",
       "        (W_value): Linear(in_features=768, out_features=768, bias=False)\n",
       "        (out_proj): Linear(in_features=768, out_features=768, bias=True)\n",
       "        (dropout): Dropout(p=0.1, inplace=False)\n",
       "      )\n",
       "      (ff): FeedForwardEqual(\n",
       "        (layers): Sequential(\n",
       "          (0): Linear(in_features=768, out_features=3072, bias=True)\n",
       "          (1): GELU()\n",
       "          (2): Linear(in_features=3072, out_features=768, bias=True)\n",
       "        )\n",
       "      )\n",
       "      (norm1): LayerNormalization()\n",
       "      (norm2): LayerNormalization()\n",
       "      (dropout): Dropout(p=0.1, inplace=False)\n",
       "    )\n",
       "    (7): TransformerBlock(\n",
       "      (attn): MultiHeadAttention(\n",
       "        (W_query): Linear(in_features=768, out_features=768, bias=False)\n",
       "        (W_key): Linear(in_features=768, out_features=768, bias=False)\n",
       "        (W_value): Linear(in_features=768, out_features=768, bias=False)\n",
       "        (out_proj): Linear(in_features=768, out_features=768, bias=True)\n",
       "        (dropout): Dropout(p=0.1, inplace=False)\n",
       "      )\n",
       "      (ff): FeedForwardEqual(\n",
       "        (layers): Sequential(\n",
       "          (0): Linear(in_features=768, out_features=3072, bias=True)\n",
       "          (1): GELU()\n",
       "          (2): Linear(in_features=3072, out_features=768, bias=True)\n",
       "        )\n",
       "      )\n",
       "      (norm1): LayerNormalization()\n",
       "      (norm2): LayerNormalization()\n",
       "      (dropout): Dropout(p=0.1, inplace=False)\n",
       "    )\n",
       "    (8): TransformerBlock(\n",
       "      (attn): MultiHeadAttention(\n",
       "        (W_query): Linear(in_features=768, out_features=768, bias=False)\n",
       "        (W_key): Linear(in_features=768, out_features=768, bias=False)\n",
       "        (W_value): Linear(in_features=768, out_features=768, bias=False)\n",
       "        (out_proj): Linear(in_features=768, out_features=768, bias=True)\n",
       "        (dropout): Dropout(p=0.1, inplace=False)\n",
       "      )\n",
       "      (ff): FeedForwardEqual(\n",
       "        (layers): Sequential(\n",
       "          (0): Linear(in_features=768, out_features=3072, bias=True)\n",
       "          (1): GELU()\n",
       "          (2): Linear(in_features=3072, out_features=768, bias=True)\n",
       "        )\n",
       "      )\n",
       "      (norm1): LayerNormalization()\n",
       "      (norm2): LayerNormalization()\n",
       "      (dropout): Dropout(p=0.1, inplace=False)\n",
       "    )\n",
       "    (9): TransformerBlock(\n",
       "      (attn): MultiHeadAttention(\n",
       "        (W_query): Linear(in_features=768, out_features=768, bias=False)\n",
       "        (W_key): Linear(in_features=768, out_features=768, bias=False)\n",
       "        (W_value): Linear(in_features=768, out_features=768, bias=False)\n",
       "        (out_proj): Linear(in_features=768, out_features=768, bias=True)\n",
       "        (dropout): Dropout(p=0.1, inplace=False)\n",
       "      )\n",
       "      (ff): FeedForwardEqual(\n",
       "        (layers): Sequential(\n",
       "          (0): Linear(in_features=768, out_features=3072, bias=True)\n",
       "          (1): GELU()\n",
       "          (2): Linear(in_features=3072, out_features=768, bias=True)\n",
       "        )\n",
       "      )\n",
       "      (norm1): LayerNormalization()\n",
       "      (norm2): LayerNormalization()\n",
       "      (dropout): Dropout(p=0.1, inplace=False)\n",
       "    )\n",
       "    (10): TransformerBlock(\n",
       "      (attn): MultiHeadAttention(\n",
       "        (W_query): Linear(in_features=768, out_features=768, bias=False)\n",
       "        (W_key): Linear(in_features=768, out_features=768, bias=False)\n",
       "        (W_value): Linear(in_features=768, out_features=768, bias=False)\n",
       "        (out_proj): Linear(in_features=768, out_features=768, bias=True)\n",
       "        (dropout): Dropout(p=0.1, inplace=False)\n",
       "      )\n",
       "      (ff): FeedForwardEqual(\n",
       "        (layers): Sequential(\n",
       "          (0): Linear(in_features=768, out_features=3072, bias=True)\n",
       "          (1): GELU()\n",
       "          (2): Linear(in_features=3072, out_features=768, bias=True)\n",
       "        )\n",
       "      )\n",
       "      (norm1): LayerNormalization()\n",
       "      (norm2): LayerNormalization()\n",
       "      (dropout): Dropout(p=0.1, inplace=False)\n",
       "    )\n",
       "    (11): TransformerBlock(\n",
       "      (attn): MultiHeadAttention(\n",
       "        (W_query): Linear(in_features=768, out_features=768, bias=False)\n",
       "        (W_key): Linear(in_features=768, out_features=768, bias=False)\n",
       "        (W_value): Linear(in_features=768, out_features=768, bias=False)\n",
       "        (out_proj): Linear(in_features=768, out_features=768, bias=True)\n",
       "        (dropout): Dropout(p=0.1, inplace=False)\n",
       "      )\n",
       "      (ff): FeedForwardEqual(\n",
       "        (layers): Sequential(\n",
       "          (0): Linear(in_features=768, out_features=3072, bias=True)\n",
       "          (1): GELU()\n",
       "          (2): Linear(in_features=3072, out_features=768, bias=True)\n",
       "        )\n",
       "      )\n",
       "      (norm1): LayerNormalization()\n",
       "      (norm2): LayerNormalization()\n",
       "      (dropout): Dropout(p=0.1, inplace=False)\n",
       "    )\n",
       "  )\n",
       "  (final_norm): LayerNormalization()\n",
       "  (out_head): Linear(in_features=768, out_features=50257, bias=False)\n",
       ")"
      ]
     },
     "execution_count": 2,
     "metadata": {},
     "output_type": "execute_result"
    }
   ],
   "execution_count": 2
  },
  {
   "metadata": {
    "ExecuteTime": {
     "end_time": "2024-07-07T16:27:07.115334Z",
     "start_time": "2024-07-07T16:27:06.517566Z"
    }
   },
   "cell_type": "code",
   "source": [
    "start_context = 'Every effort moves you'\n",
    "tokenizer = tiktoken.get_encoding('gpt2')\n",
    "\n",
    "token_ids = generate_text_simple(\n",
    "    model=model,\n",
    "    token_idxes=text_to_token_ids(start_context, tokenizer),\n",
    "    max_new_tokens=10,\n",
    "    context_size=GPT_CONFIG_124M_256['context_length']\n",
    ")\n",
    "print('Output text:\\n', token_ids_to_text(token_ids, tokenizer))"
   ],
   "id": "e1942def8c825770",
   "outputs": [
    {
     "name": "stdout",
     "output_type": "stream",
     "text": [
      "Output text:\n",
      " Every effort moves you rentingetic wasnم refres RexMeCHicular stren\n"
     ]
    }
   ],
   "execution_count": 3
  },
  {
   "metadata": {
    "ExecuteTime": {
     "end_time": "2024-07-07T16:27:07.118546Z",
     "start_time": "2024-07-07T16:27:07.116261Z"
    }
   },
   "cell_type": "code",
   "source": [
    "inputs = torch.tensor(\n",
    "    [\n",
    "        [16833, 3626, 6100],\n",
    "        [40, 1107, 588],\n",
    "    ]\n",
    ")\n",
    "\n",
    "targets = torch.tensor(\n",
    "    [\n",
    "        [3626, 6100, 345],\n",
    "        [588, 428, 11311],\n",
    "    ]\n",
    ")"
   ],
   "id": "3f19948c103c0439",
   "outputs": [],
   "execution_count": 4
  },
  {
   "metadata": {
    "ExecuteTime": {
     "end_time": "2024-07-07T16:27:07.171141Z",
     "start_time": "2024-07-07T16:27:07.120552Z"
    }
   },
   "cell_type": "code",
   "source": [
    "with torch.no_grad():\n",
    "    logits = model(inputs)\n",
    "probs = torch.softmax(logits, dim=-1)\n",
    "print(probs.shape)"
   ],
   "id": "b805136cce11853d",
   "outputs": [
    {
     "name": "stdout",
     "output_type": "stream",
     "text": [
      "torch.Size([2, 3, 50257])\n"
     ]
    }
   ],
   "execution_count": 5
  },
  {
   "metadata": {
    "ExecuteTime": {
     "end_time": "2024-07-07T16:27:07.174556Z",
     "start_time": "2024-07-07T16:27:07.172064Z"
    }
   },
   "cell_type": "code",
   "source": [
    "token_ids = torch.argmax(probs, dim=-1, keepdim=True)\n",
    "print('Token IDs:\\n', token_ids)"
   ],
   "id": "f7970903e32ed604",
   "outputs": [
    {
     "name": "stdout",
     "output_type": "stream",
     "text": [
      "Token IDs:\n",
      " tensor([[[16657],\n",
      "         [  339],\n",
      "         [42826]],\n",
      "\n",
      "        [[49906],\n",
      "         [29669],\n",
      "         [41751]]])\n"
     ]
    }
   ],
   "execution_count": 6
  },
  {
   "metadata": {
    "ExecuteTime": {
     "end_time": "2024-07-07T16:27:07.177696Z",
     "start_time": "2024-07-07T16:27:07.175335Z"
    }
   },
   "cell_type": "code",
   "source": [
    "target_probs0 = probs[0, [0, 1, 2], targets[0]]\n",
    "target_probs1 = probs[1, [0, 1, 2], targets[1]]"
   ],
   "id": "843ead7cf2ff711f",
   "outputs": [],
   "execution_count": 7
  },
  {
   "metadata": {
    "ExecuteTime": {
     "end_time": "2024-07-07T16:27:07.180838Z",
     "start_time": "2024-07-07T16:27:07.178430Z"
    }
   },
   "cell_type": "code",
   "source": [
    "log_probs = torch.log(torch.cat((target_probs0, target_probs1)))\n",
    "print(log_probs)"
   ],
   "id": "d2194cdeee4709fc",
   "outputs": [
    {
     "name": "stdout",
     "output_type": "stream",
     "text": [
      "tensor([ -9.5042, -10.3796, -11.3677, -10.1308, -10.9951, -12.2561])\n"
     ]
    }
   ],
   "execution_count": 8
  },
  {
   "metadata": {
    "ExecuteTime": {
     "end_time": "2024-07-07T16:27:07.183811Z",
     "start_time": "2024-07-07T16:27:07.181487Z"
    }
   },
   "cell_type": "code",
   "source": [
    "avg_log_probs = torch.mean(log_probs)\n",
    "print(avg_log_probs)"
   ],
   "id": "946596b056f5aceb",
   "outputs": [
    {
     "name": "stdout",
     "output_type": "stream",
     "text": [
      "tensor(-10.7722)\n"
     ]
    }
   ],
   "execution_count": 9
  },
  {
   "metadata": {
    "ExecuteTime": {
     "end_time": "2024-07-07T16:27:07.186312Z",
     "start_time": "2024-07-07T16:27:07.184281Z"
    }
   },
   "cell_type": "code",
   "source": [
    "neg_avg_log_probs = -1 * avg_log_probs\n",
    "print(neg_avg_log_probs)"
   ],
   "id": "9febbf850efc6bd2",
   "outputs": [
    {
     "name": "stdout",
     "output_type": "stream",
     "text": [
      "tensor(10.7722)\n"
     ]
    }
   ],
   "execution_count": 10
  },
  {
   "metadata": {
    "ExecuteTime": {
     "end_time": "2024-07-07T16:27:07.189200Z",
     "start_time": "2024-07-07T16:27:07.186952Z"
    }
   },
   "cell_type": "code",
   "source": [
    "logits_flat = logits.flatten(0, 1)\n",
    "targets_flat = targets.flatten()\n",
    "print('logits_flat:\\n', logits_flat.shape)\n",
    "print('targets_flat:\\n', targets_flat.shape)"
   ],
   "id": "e544bb484711af19",
   "outputs": [
    {
     "name": "stdout",
     "output_type": "stream",
     "text": [
      "logits_flat:\n",
      " torch.Size([6, 50257])\n",
      "targets_flat:\n",
      " torch.Size([6])\n"
     ]
    }
   ],
   "execution_count": 11
  },
  {
   "metadata": {
    "ExecuteTime": {
     "end_time": "2024-07-07T16:27:07.192256Z",
     "start_time": "2024-07-07T16:27:07.189990Z"
    }
   },
   "cell_type": "code",
   "source": [
    "loss = F.cross_entropy(logits_flat, targets_flat)\n",
    "print(loss)"
   ],
   "id": "64ba0a51c75b9210",
   "outputs": [
    {
     "name": "stdout",
     "output_type": "stream",
     "text": [
      "tensor(10.7722)\n"
     ]
    }
   ],
   "execution_count": 12
  },
  {
   "metadata": {
    "ExecuteTime": {
     "end_time": "2024-07-07T16:27:07.197673Z",
     "start_time": "2024-07-07T16:27:07.192970Z"
    }
   },
   "cell_type": "code",
   "source": [
    "file_path = '../data/the-verdict.txt'\n",
    "with open(file_path, 'r') as fp:\n",
    "    text_data = fp.read()\n",
    "\n",
    "total_characters = len(text_data)\n",
    "total_tokens = len(tokenizer.encode(text_data))\n",
    "\n",
    "print('# characters:', total_characters)\n",
    "print('# tokens:', total_tokens)"
   ],
   "id": "73762c86caec13dc",
   "outputs": [
    {
     "name": "stdout",
     "output_type": "stream",
     "text": [
      "# characters: 20479\n",
      "# tokens: 5145\n"
     ]
    }
   ],
   "execution_count": 13
  },
  {
   "metadata": {
    "ExecuteTime": {
     "end_time": "2024-07-07T16:27:07.202146Z",
     "start_time": "2024-07-07T16:27:07.200562Z"
    }
   },
   "cell_type": "code",
   "source": [
    "train_ratio = 0.9\n",
    "split_idx = int(train_ratio * total_characters)\n",
    "train_data = text_data[:split_idx]\n",
    "val_data = text_data[split_idx:]"
   ],
   "id": "f2b6abafbc93dc4e",
   "outputs": [],
   "execution_count": 14
  },
  {
   "metadata": {
    "ExecuteTime": {
     "end_time": "2024-07-07T16:27:07.207931Z",
     "start_time": "2024-07-07T16:27:07.202966Z"
    }
   },
   "cell_type": "code",
   "source": [
    "torch.manual_seed(123)\n",
    "\n",
    "train_dataset = GPTDatasetV1(\n",
    "    train_data,\n",
    "    tokenizer,\n",
    "    GPT_CONFIG_124M_256['context_length'],\n",
    "    GPT_CONFIG_124M_256['context_length']\n",
    ")\n",
    "val_dataset = GPTDatasetV1(\n",
    "    val_data,\n",
    "    tokenizer,\n",
    "    GPT_CONFIG_124M_256['context_length'],\n",
    "    GPT_CONFIG_124M_256['context_length']\n",
    ")"
   ],
   "id": "dbaf7af5d53f6584",
   "outputs": [],
   "execution_count": 15
  },
  {
   "metadata": {
    "ExecuteTime": {
     "end_time": "2024-07-07T16:27:07.210280Z",
     "start_time": "2024-07-07T16:27:07.208500Z"
    }
   },
   "cell_type": "code",
   "source": [
    "train_data_loader = train_dataset.to_data_loader(2, True, False)\n",
    "val_data_loader = val_dataset.to_data_loader(2, False, False)"
   ],
   "id": "2965826115bbbbb8",
   "outputs": [],
   "execution_count": 16
  },
  {
   "metadata": {
    "ExecuteTime": {
     "end_time": "2024-07-07T16:27:07.214407Z",
     "start_time": "2024-07-07T16:27:07.210900Z"
    }
   },
   "cell_type": "code",
   "source": [
    "print('Train loader:')\n",
    "for x, y in train_data_loader:\n",
    "    print(x.shape, y.shape)\n",
    "\n",
    "print('\\n Val loader:')\n",
    "for x, y in val_data_loader:\n",
    "    print(x.shape, y.shape)"
   ],
   "id": "b2f40dbec01d05f",
   "outputs": [
    {
     "name": "stdout",
     "output_type": "stream",
     "text": [
      "Train loader:\n",
      "torch.Size([2, 256]) torch.Size([2, 256])\n",
      "torch.Size([2, 256]) torch.Size([2, 256])\n",
      "torch.Size([2, 256]) torch.Size([2, 256])\n",
      "torch.Size([2, 256]) torch.Size([2, 256])\n",
      "torch.Size([2, 256]) torch.Size([2, 256])\n",
      "torch.Size([2, 256]) torch.Size([2, 256])\n",
      "torch.Size([2, 256]) torch.Size([2, 256])\n",
      "torch.Size([2, 256]) torch.Size([2, 256])\n",
      "torch.Size([2, 256]) torch.Size([2, 256])\n",
      "\n",
      " Val loader:\n",
      "torch.Size([2, 256]) torch.Size([2, 256])\n"
     ]
    }
   ],
   "execution_count": 17
  },
  {
   "metadata": {
    "ExecuteTime": {
     "end_time": "2024-07-07T16:29:40.222196Z",
     "start_time": "2024-07-07T16:29:40.218875Z"
    }
   },
   "cell_type": "code",
   "source": [
    "train_tokens = 0\n",
    "for input_batch, target_batch in train_data_loader:\n",
    "    train_tokens += input_batch.numel()\n",
    "\n",
    "val_tokens = 0\n",
    "for input_batch, target_batch in val_data_loader:\n",
    "    val_tokens += input_batch.numel()\n",
    "\n",
    "print(\"Training tokens:\", train_tokens)\n",
    "print(\"Validation tokens:\", val_tokens)\n",
    "print(\"All tokens:\", train_tokens + val_tokens)"
   ],
   "id": "5f59d3d90f9b5cce",
   "outputs": [
    {
     "name": "stdout",
     "output_type": "stream",
     "text": [
      "Training tokens: 4608\n",
      "Validation tokens: 512\n",
      "All tokens: 5120\n"
     ]
    }
   ],
   "execution_count": 22
  },
  {
   "metadata": {
    "ExecuteTime": {
     "end_time": "2024-07-07T16:27:09.181679Z",
     "start_time": "2024-07-07T16:27:07.215152Z"
    }
   },
   "cell_type": "code",
   "source": [
    "device = torch.device('mps')\n",
    "model.to(device)\n",
    "with torch.no_grad():\n",
    "    train_loss = compute_full_loss(train_data_loader, model, device)\n",
    "    val_loss = compute_full_loss(val_data_loader, model, device)\n",
    "print('Training loss:', train_loss)\n",
    "print('Validation loss:', val_loss)"
   ],
   "id": "52050e46717da777",
   "outputs": [
    {
     "name": "stdout",
     "output_type": "stream",
     "text": [
      "Training loss: tensor(10.9876, device='mps:0')\n",
      "Validation loss: tensor(10.9811, device='mps:0')\n"
     ]
    }
   ],
   "execution_count": 18
  },
  {
   "metadata": {
    "ExecuteTime": {
     "end_time": "2024-07-07T16:32:35.757343Z",
     "start_time": "2024-07-07T16:31:25.882329Z"
    }
   },
   "cell_type": "code",
   "source": [
    "torch.manual_seed(123)\n",
    "model = GPT2Model(GPT_CONFIG_124M_256)\n",
    "model.to(device)\n",
    "optimizer = torch.optim.Adam(model.parameters(), lr=4e-4, weight_decay=0.1)\n",
    "\n",
    "num_epochs = 20\n",
    "train_losses, val_losses, tokens_seen = train_model_simple(\n",
    "    model,\n",
    "    train_data_loader,\n",
    "    val_data_loader,\n",
    "    optimizer,\n",
    "    device,\n",
    "    num_epochs,\n",
    "    5,\n",
    "    5,\n",
    "    start_context='Every effort moves you',\n",
    "    tokenizer=tokenizer,\n",
    "    context_length=GPT_CONFIG_124M_256['context_length']\n",
    ")"
   ],
   "id": "ad876ee083cf713b",
   "outputs": [
    {
     "name": "stdout",
     "output_type": "stream",
     "text": [
      "Epoch 1 (Step 000000:\n",
      "Train Loss: 10.6784\n",
      "Val Loss: 10.6941\n",
      "Epoch 1 (Step 000005:\n",
      "Train Loss: 9.4779\n",
      "Val Loss: 9.6846\n",
      "Every effort moves you,,,,,,,,,,,,,,,,,,,,,,,,,,,,,,,,,,,,,,,,,,,,,,,,,,\n",
      "Epoch 2 (Step 000010:\n",
      "Train Loss: 8.8302\n",
      "Val Loss: 9.0604\n",
      "Epoch 2 (Step 000015:\n",
      "Train Loss: 8.4065\n",
      "Val Loss: 8.6267\n",
      "Every effort moves you, the, the the the the the the the the, the.                                    \n",
      "Epoch 3 (Step 000020:\n",
      "Train Loss: 8.0484\n",
      "Val Loss: 8.2186\n",
      "Epoch 3 (Step 000025:\n",
      "Train Loss: 7.6563\n",
      "Val Loss: 7.8721\n",
      "Every effort moves you,,,,,,,,,,,,,,,,,,,,,,,,,,,,, the,,,,,,,,,,,,,,,,,,,,\n",
      "Epoch 4 (Step 000030:\n",
      "Train Loss: 7.4563\n",
      "Val Loss: 7.6500\n",
      "Epoch 4 (Step 000035:\n",
      "Train Loss: 7.3244\n",
      "Val Loss: 7.4989\n",
      "Every effort moves you,,,,,,.                                           \n",
      "Epoch 5 (Step 000040:\n",
      "Train Loss: 7.1200\n",
      "Val Loss: 7.3808\n",
      "Every effort moves you,,,,,, the the,,,,,,.                                   \n",
      "Epoch 6 (Step 000045:\n",
      "Train Loss: 7.0794\n",
      "Val Loss: 7.2864\n",
      "Epoch 6 (Step 000050:\n",
      "Train Loss: 6.9867\n",
      "Val Loss: 7.1948\n",
      "Every effort moves you,,,,,,.                                           \n",
      "Epoch 7 (Step 000055:\n",
      "Train Loss: 6.9617\n",
      "Val Loss: 7.1629\n",
      "Epoch 7 (Step 000060:\n",
      "Train Loss: 6.8289\n",
      "Val Loss: 7.0893\n",
      "Every effort moves you, the,, the, the the,,,, I, I,,,, the,,,,,,,,, I,, the,,,, the,,,,,,,,,,,,\n",
      "Epoch 8 (Step 000065:\n",
      "Train Loss: 6.7129\n",
      "Val Loss: 7.0490\n",
      "Epoch 8 (Step 000070:\n",
      "Train Loss: 6.7474\n",
      "Val Loss: 6.9983\n",
      "Every effort moves you, the                                                \n",
      "Epoch 9 (Step 000075:\n",
      "Train Loss: 6.6797\n",
      "Val Loss: 6.9802\n",
      "Epoch 9 (Step 000080:\n",
      "Train Loss: 6.6574\n",
      "Val Loss: 6.9530\n",
      "Every effort moves you, and, and the                                             \n",
      "Epoch 10 (Step 000085:\n",
      "Train Loss: 6.5548\n",
      "Val Loss: 6.9387\n",
      "Every effort moves you, the, and the, the,,,,, I, I,,,, the,,,,, the,,, the,, the,,,, the,,, the,,,,,,,,\n",
      "Epoch 11 (Step 000090:\n",
      "Train Loss: 6.6694\n",
      "Val Loss: 6.9174\n",
      "Epoch 11 (Step 000095:\n",
      "Train Loss: 6.5711\n",
      "Val Loss: 6.8862\n",
      "Every effort moves you, and, and the                                             \n",
      "Epoch 12 (Step 000100:\n",
      "Train Loss: 6.5348\n",
      "Val Loss: 6.8926\n",
      "Epoch 12 (Step 000105:\n",
      "Train Loss: 6.5213\n",
      "Val Loss: 6.8791\n",
      "Every effort moves you, and, and the, and the, the,, I, I, and,, the, and,,, the,,, the,, the, and, the.            \n",
      "Epoch 13 (Step 000110:\n",
      "Train Loss: 6.4684\n",
      "Val Loss: 6.8511\n",
      "Epoch 13 (Step 000115:\n",
      "Train Loss: 6.4393\n",
      "Val Loss: 6.8400\n",
      "Every effort moves you, and, and the, and the, and,, and, and, and, the,, and,, and, and, and the, and the, and, and the, and, and, and,, and,, and\n",
      "Epoch 14 (Step 000120:\n",
      "Train Loss: 6.4932\n",
      "Val Loss: 6.8565\n",
      "Epoch 14 (Step 000125:\n",
      "Train Loss: 6.3743\n",
      "Val Loss: 6.8187\n",
      "Every effort moves you, and, and, and, and, and, and, and.                                   \n",
      "Epoch 15 (Step 000130:\n",
      "Train Loss: 6.4388\n",
      "Val Loss: 6.8417\n",
      "Every effort moves you, and, and the, and the, the, and the.                                    \n",
      "Epoch 16 (Step 000135:\n",
      "Train Loss: 6.3476\n",
      "Val Loss: 6.8037\n",
      "Epoch 16 (Step 000140:\n",
      "Train Loss: 6.3895\n",
      "Val Loss: 6.8399\n",
      "Every effort moves you, and, and, the.                                           \n",
      "Epoch 17 (Step 000145:\n",
      "Train Loss: 6.3676\n",
      "Val Loss: 6.8129\n",
      "Epoch 17 (Step 000150:\n",
      "Train Loss: 6.3706\n",
      "Val Loss: 6.7750\n",
      "Every effort moves you, and, and the                                             \n",
      "Epoch 18 (Step 000155:\n",
      "Train Loss: 6.3190\n",
      "Val Loss: 6.8028\n",
      "Epoch 18 (Step 000160:\n",
      "Train Loss: 6.3302\n",
      "Val Loss: 6.7992\n",
      "Every effort moves you, and, and, the.                                           \n",
      "Epoch 19 (Step 000165:\n",
      "Train Loss: 6.2454\n",
      "Val Loss: 6.7885\n",
      "Epoch 19 (Step 000170:\n",
      "Train Loss: 6.3625\n",
      "Val Loss: 6.7904\n",
      "Every effort moves you, and, and the, and the, the, and the.                                    \n",
      "Epoch 20 (Step 000175:\n",
      "Train Loss: 6.3188\n",
      "Val Loss: 6.7655\n",
      "Every effort moves you, and, and the, and, and the, and the.                                    \n"
     ]
    }
   ],
   "execution_count": 23
  },
  {
   "metadata": {
    "ExecuteTime": {
     "end_time": "2024-07-07T16:29:17.357016Z",
     "start_time": "2024-07-07T16:29:17.258723Z"
    }
   },
   "cell_type": "code",
   "source": [
    "epochs = torch.linspace(0, num_epochs, len(train_losses))\n",
    "print(epochs)\n",
    "print(len(train_losses))\n",
    "print(train_losses)"
   ],
   "id": "a567da76f8ca7721",
   "outputs": [
    {
     "name": "stdout",
     "output_type": "stream",
     "text": [
      "tensor([ 0.0000,  0.5714,  1.1429,  1.7143,  2.2857,  2.8571,  3.4286,  4.0000,\n",
      "         4.5714,  5.1429,  5.7143,  6.2857,  6.8571,  7.4286,  8.0000,  8.5714,\n",
      "         9.1429,  9.7143, 10.2857, 10.8571, 11.4286, 12.0000, 12.5714, 13.1429,\n",
      "        13.7143, 14.2857, 14.8571, 15.4286, 16.0000, 16.5714, 17.1429, 17.7143,\n",
      "        18.2857, 18.8571, 19.4286, 20.0000])\n",
      "36\n",
      "[tensor(10.7501, device='mps:0'), tensor(9.5683, device='mps:0'), tensor(8.7384, device='mps:0'), tensor(8.3223, device='mps:0'), tensor(8.2091, device='mps:0'), tensor(7.5056, device='mps:0'), tensor(7.2931, device='mps:0'), tensor(7.3283, device='mps:0'), tensor(7.0594, device='mps:0'), tensor(7.2088, device='mps:0'), tensor(6.8470, device='mps:0'), tensor(7.0966, device='mps:0'), tensor(6.5856, device='mps:0'), tensor(6.5510, device='mps:0'), tensor(6.7177, device='mps:0'), tensor(6.8558, device='mps:0'), tensor(6.8968, device='mps:0'), tensor(6.3556, device='mps:0'), tensor(6.8593, device='mps:0'), tensor(6.3287, device='mps:0'), tensor(6.5710, device='mps:0'), tensor(6.5522, device='mps:0'), tensor(6.4427, device='mps:0'), tensor(6.4238, device='mps:0'), tensor(6.5743, device='mps:0'), tensor(6.3238, device='mps:0'), tensor(6.3491, device='mps:0'), tensor(6.4690, device='mps:0'), tensor(6.4747, device='mps:0'), tensor(6.3248, device='mps:0'), tensor(6.2180, device='mps:0'), tensor(6.3847, device='mps:0'), tensor(6.5709, device='mps:0'), tensor(6.4041, device='mps:0'), tensor(6.5207, device='mps:0'), tensor(6.0725, device='mps:0')]\n"
     ]
    }
   ],
   "execution_count": 20
  },
  {
   "metadata": {
    "ExecuteTime": {
     "end_time": "2024-07-07T16:29:17.511738Z",
     "start_time": "2024-07-07T16:29:17.357652Z"
    }
   },
   "cell_type": "code",
   "source": [
    "plot_losses(\n",
    "    epochs,\n",
    "    tokens_seen,\n",
    "    [loss.cpu() for loss in train_losses],\n",
    "    [loss.cpu() for loss in val_losses]\n",
    ")"
   ],
   "id": "5153d47ec210a540",
   "outputs": [
    {
     "data": {
      "text/plain": [
       "<Figure size 500x300 with 2 Axes>"
      ],
      "image/png": "[encoded data removed]"
     },
     "metadata": {},
     "output_type": "display_data"
    }
   ],
   "execution_count": 21
  }
 ],
 "metadata": {
  "kernelspec": {
   "display_name": "Python 3",
   "language": "python",
   "name": "python3"
  },
  "language_info": {
   "codemirror_mode": {
    "name": "ipython",
    "version": 2
   },
   "file_extension": ".py",
   "mimetype": "text/x-python",
   "name": "python",
   "nbconvert_exporter": "python",
   "pygments_lexer": "ipython2",
   "version": "2.7.6"
  }
 },
 "nbformat": 4,
 "nbformat_minor": 5
}
